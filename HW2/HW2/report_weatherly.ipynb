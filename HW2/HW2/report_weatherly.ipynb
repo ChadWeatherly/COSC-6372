{
 "cells": [
  {
   "cell_type": "markdown",
   "metadata": {},
   "source": [
    "# __Report - HW2__\n",
    "\n",
    "### Chad Weatherly\n",
    "\n",
    "__Problem__\n",
    "\n",
    "For homework 2, the problem was to re-create the GzFrameBuffer class in C++, except now the GzFrameBuffer should have the ability to draw triangle primitives using the Scan Line algorithm.\n",
    "\n",
    "__Method__\n",
    "\n",
    "For my method, I first created a new structure in GzCommomon, ```GzTriangle```, which takes in 3 vertices (```GzVertex```) and their corresponding color values (```GzColor```). ```GzTriangle``` then sorts them from lowest x-value >> highest x-value, so that when calculating slopes, it's easier. It then calculates the minimum and maximum x- and y-values (4 total). Finally, it calculates the slope of the line connecting each set of vertices (3 total). This is used as part of GzFrameBuffer. \n",
    "\n",
    "I then re-created the GzFrameBuffer class with the following methods (new methods/attributes to HW2 are bold):\n",
    "\n",
    "- ```initFramSize()``1, which takes in width and height values and initializes the buffer screen with these dimensions.\n",
    "- ```toImage```, which outputs the buffer as a ```GzImage``` object.\n",
    "- ```clear```, which clears the buffer screen at z-value ```clear_depth``` or lower with the ```clear_color```.\n",
    "- ```setClearColor```, which sets the ```clear_color``` attribute with an input ```GzColor``` object.\n",
    "- ```setClearDepth```, which sets the ```clear_depth``` attribute with an input ```GzReal``` (float) object.\n",
    "- ```get_depth```, which gets the depth of the buffer image at entry (x, y).\n",
    "- ```set_depth```, which sets the depth of the buffer image at entry (x, y) with value z.\n",
    "- __```get_width```__, which returns the pixel width of the buffer size\n",
    "- __```get_height```__, which returns the pixel height of the buffer size\n",
    "- ```drawPoint```, the essential function of GzFramBuffer. Once the frame buffer is initialized, individual pixels are updates with ```drawPoint``` at pixel (x, y) with a specified color and given a depth-value at that pixel, if the depth (z-value) of the new vertex is greater than the current pixel depth at (x, y). If not, then the pixel is left unchanged.\n",
    "- __```find_intersection```__, which, given a point (x1, y1) on a line with slope m and a y value, calculates at which point x would make it so that (x, y) is on the same line. \n",
    "- __```MapToPixels```__, disregard. Implemented to fix an error but then not used because the error was caused by something different.\n",
    "- __```drawTriangle```__, takes in 3 vertices and 3 colors, and draws the corresponding triangle onto the frameBuffer image. More implementation details are below.\n",
    "\n",
    "Along with the methods, the following private attributes were also added:\n",
    "\n",
    "- ```GzInt w```, the width of the image frame.\n",
    "- ```GzInt h```, the height of the image frame.\n",
    "- ```GzColor clear_color```, the RGBA color value used to clear the buffer below the z-value ```clear_depth```.\n",
    "- ```GZInt clear_depth```, the z-value used to clear the frame buffer\n",
    "- ```GzImage internal_buffer```, the image buffer that is constantly updated with the methods above.\n",
    "- ```vector<vector<GzInt> > pixel_depth```, a 2D vector that keeps track of the depth at each pixel location.\n",
    "\n",
    "The GzFrameBuffer class essentially has two main types of actions, initialize/clear and drawing a point.\n",
    "\n",
    "When the buffer is initialized, it automatically creates and clears the image frame. After initialization, the image frame can be cleared again with different colors or to different depths. \n",
    "\n",
    "Drawing a point is the essential part of the class, as it is actually doing the work of drawing given colors on the given vertices by the Gz class. This image is constantly updated as Gz passed new vertices and colors to GzFrameBuffer.\n",
    "\n",
    "__```GzFrameBuffer::drawTriangle```__\n",
    "\n",
    "When drawing triangles, a single triangle with 3 vertices and 3 colors is passed to drawTriangle. The scanline is implemented loosely following these steps:\n",
    "\n",
    "1. Bound triangle to box where x : [x_min, x_max] and y : [y_min, y_max]\n",
    "2. Scan a horizontal line through each y-value in [y_min, y_max]\n",
    "3. If there are two intersections of the scan line to the triangle, then fill in the x-values on that y-value scanline with interpolated z and color values\n",
    "\n",
    "This works well, it iterates through each triangle, then through each line of the triangle to fill in the colors. \n",
    "\n",
    "__Implementation__\n",
    "\n",
    "This class and all of its methods were coded in C++, with the initial declaration of the class and its methods/attributes in the GzFrameBuffer.h file, then implemented in GzFrameBuffer.cpp.\n",
    "\n",
    "After the coding was done, compiling was done through the terminal, as I am coding on MacOS with an M2 max chip on VS code. Currently, VS code struggles to compile and link files, but this was circumvented using the terminal. From the HW1 directory, the below code was used to compile the program to an executable object, hw1.exe:\n",
    "\n",
    "```zsh\n",
    "clang++ src/main.cpp src/Gz.cpp src/GzImage.cpp src/GzFrameBuffer.cpp -o hw2\n",
    "```\n",
    "\n",
    "For using G++:\n",
    "\n",
    "```zsh\n",
    "g++ src/main.cpp src/Gz.cpp src/GzImage.cpp src/GzFrameBuffer.cpp -o hw2\n",
    "```\n",
    "\n",
    "As I am new to C++, I was not able to create a makefile to compile, but the above code should work fine on any machine. Also, the hw2.exe file is included in this directory, and can also be run using ./hw2 after compiling.\n",
    "\n",
    "__Results__\n",
    "\n",
    "The algorithm was able to render a similar image to the one provided. The only issue I had was with the colors and z-values. Because the z-values and colors vary for different vertices on several of the triangles, the interpolated values for z and colors tend to cause some aliasing, but the shape is still identifiable, which can be seen below. The first image is the one provided by TA (TeaPot_ex.bmp), while the second image is the one rendered by my program (TeaPot.bmp).\n",
    "\n",
    "![Bitmap, Provided Teapot](TeaPot_ex.bmp)\n",
    "\n",
    "![Bitmap, Rendered Teapot](TeaPot.bmp)\n"
   ]
  },
  {
   "cell_type": "markdown",
   "metadata": {},
   "source": []
  }
 ],
 "metadata": {
  "kernelspec": {
   "display_name": "Python 3 (ipykernel)",
   "language": "python",
   "name": "python3"
  },
  "language_info": {
   "codemirror_mode": {
    "name": "ipython",
    "version": 3
   },
   "file_extension": ".py",
   "mimetype": "text/x-python",
   "name": "python",
   "nbconvert_exporter": "python",
   "pygments_lexer": "ipython3",
   "version": "3.9.13"
  },
  "vscode": {
   "interpreter": {
    "hash": "31f2aee4e71d21fbe5cf8b01ff0e069b9275f58929596ceb00d14d90e3e16cd6"
   }
  }
 },
 "nbformat": 4,
 "nbformat_minor": 4
}
