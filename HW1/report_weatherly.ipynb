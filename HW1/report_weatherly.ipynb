{
 "cells": [
  {
   "cell_type": "markdown",
   "metadata": {},
   "source": [
    "# __Report - HW1__\n",
    "\n",
    "### Chad Weatherly\n",
    "\n",
    "__Problem__\n",
    "\n",
    "For homework 1, the problem was to create the GzFrameBuffer class in C++, used by the larger Gz class which contains all the code to draw a 2D image using a Z-buffer so that the closest objects are drawn, asuming they have no transparency.\n",
    "\n",
    "__Method__\n",
    "\n",
    "For my method, I created the GzFrameBuffer class with the following methods:\n",
    "\n",
    "- ```initFramSize()```, which takes in width and height values and initializes the buffer screen with these dimensions.\n",
    "- ```toImage```, which outputs the buffer as a ```GzImage``` object.\n",
    "- ```clear```, which clears the buffer screen at z-value ```clear_depth``` or lower with the ```clear_color```.\n",
    "- ```setClearColor```, which sets the ```clear_color``` attribute with an input ```GzColor``` object.\n",
    "- ```setClearDepth```, which sets the ```clear_depth``` attribute with an input ```GzReal``` (float) object.\n",
    "- ```get_depth```, which gets the depth of the buffer image at entry (x, y).\n",
    "- ```set_depth```, which sets the depth of the buffer image at entry (x, y) with value z.\n",
    "- ```drawPoint```, the essential function of GzFramBuffer. Once the frame buffer is initialized, individual pixels are updates with ```drawPoint``` at pixel (x, y) with a specified color and given a depth-value at that pixel, if the depth (z-value) of the new vertex is greater than the current pixel depth at (x, y). If not, then the pixel is left unchanged.\n",
    "\n",
    "Along with the methods, the following private attributes were also added:\n",
    "\n",
    "- ```GzInt w```, the width of the image frame.\n",
    "- ```GzInt h```, the height of the image frame.\n",
    "- ```GzColor clear_color```, the RGBA color value used to clear the buffer below the z-value ```clear_depth```.\n",
    "- ```GZInt clear_depth```, the z-value used to clear the frame buffer\n",
    "- ```GzImage internal_buffer```, the image buffer that is constantly updated with the methods above.\n",
    "- ```vector<vector<GzInt> > pixel_depth```, a 2D vector that keeps track of the depth at each pixel location.\n",
    "\n",
    "The GzFrameBuffer class essentially has two main types of actions, initialize/clear and drawing a point.\n",
    "\n",
    "When the buffer is initialized, it automatically creates and clears the image frame. After initialization, the image frame can be cleared again with different colors or to different depths. \n",
    "\n",
    "Drawing a point is the essential part of the class, as it is actually doing the work of drawing given colors on the given vertices by the Gz class. This image is constantly updated as Gz passed new vertices and colors to GzFrameBuffer.\n",
    "\n",
    "__Implementation__\n",
    "\n",
    "This class and all of its methods were coded in C++, with the initial declaration of the class and its methods/attributes in the GzFrameBuffer.h file, then implemented in GzFrameBuffer.cpp.\n",
    "\n",
    "After the coding was done, compiling was done through the terminal, as I am coding on MacOS with an M2 max chip on VS code. Currently, VS code struggles to compile and link files, but this was circumvented using the terminal. From the HW1 directory, the below code was used to compile the program to an executable object, hw1.exe:\n",
    "\n",
    "```zsh\n",
    "clang++ src/main.cpp src/Gz.cpp src/GzImage.cpp src/GzFrameBuffer.cpp -o hw1\n",
    "```\n",
    "\n",
    "For using G++:\n",
    "\n",
    "```zsh\n",
    "g++ src/main.cpp src/Gz.cpp src/GzImage.cpp src/GzFrameBuffer.cpp -o hw1\n",
    "```\n",
    "\n",
    "As I am new to C++, I was not able to create a makefile to compile, but the above code should work fine on any machine. Also, the hw1.exe file is included in this directory.\n",
    "\n",
    "__Results__\n",
    "\n",
    "The algorithm was able to successfully create bitmap images (also in this directory) with different buffer depths and buffer colors, which can be seen below:\n",
    "\n",
    "![Bitmap, black background](NoDepthBuf.bmp)\n",
    "\n",
    "![Bitmap, white background](WithDepthBuf.bmp)"
   ]
  },
  {
   "cell_type": "markdown",
   "metadata": {},
   "source": []
  }
 ],
 "metadata": {
  "kernelspec": {
   "display_name": "Python 3 (ipykernel)",
   "language": "python",
   "name": "python3"
  },
  "language_info": {
   "codemirror_mode": {
    "name": "ipython",
    "version": 3
   },
   "file_extension": ".py",
   "mimetype": "text/x-python",
   "name": "python",
   "nbconvert_exporter": "python",
   "pygments_lexer": "ipython3",
   "version": "3.9.6"
  },
  "vscode": {
   "interpreter": {
    "hash": "31f2aee4e71d21fbe5cf8b01ff0e069b9275f58929596ceb00d14d90e3e16cd6"
   }
  }
 },
 "nbformat": 4,
 "nbformat_minor": 4
}
